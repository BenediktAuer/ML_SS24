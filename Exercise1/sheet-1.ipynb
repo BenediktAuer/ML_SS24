{
 "cells": [
  {
   "cell_type": "markdown",
   "metadata": {},
   "source": [
    "# Lecture 1: Introduction and basics of Artificial Neural Networks (ANNs)"
   ]
  },
  {
   "cell_type": "markdown",
   "metadata": {},
   "source": [
    "In this notebook, you'll find various tasks encompassing both theoretical and coding exercises. Each exercise corresponds to a specific number of points, which are explicitly indicated within the task description.\n",
    "\n",
    "For the coding section, follow the steps outlined in the `README.md` file to install Python, create your virtual environment, and install your Jupyter kernel. (Note: You only need to do this once.)     \n",
    "Always use the Jupyter kernel associated with the dedicated environment when compiling the notebook and completing your exercises."
   ]
  },
  {
   "cell_type": "markdown",
   "metadata": {},
   "source": [
    "## Excercise 0 (Installation) (5/100)\n",
    "\n",
    "Follow the guidelines from the `README.md` file and install python. Then create a virtual environment, install the necessary packages and  install a new jupyter kernel. \n",
    "Once you are done with those steps, import the corresponding jupyter kernel and run the cell below without error. "
   ]
  },
  {
   "cell_type": "code",
   "execution_count": 1,
   "metadata": {},
   "outputs": [
    {
     "name": "stdout",
     "output_type": "stream",
     "text": [
      "Congratulations on installing your virtual environment and creating your first tensor: tensor([0, 1, 2, 3, 4])\n"
     ]
    }
   ],
   "source": [
    "import torch\n",
    "import numpy as np\n",
    "import matplotlib.pyplot as plt\n",
    "\n",
    "\n",
    "tensor=torch.arange(5)\n",
    "print(f'Congratulations on installing your virtual environment and creating your first tensor: {tensor}')"
   ]
  },
  {
   "cell_type": "markdown",
   "metadata": {},
   "source": [
    "## Excercise 1 (Theory) (20/100)\n",
    "\n",
    "### Understanding Activation Functions\n",
    "\n",
    "Consider a neural network with a single hidden layer and two neurons. You're tasked with implementing this neural network using a sigmoid activation function for the hidden layer neurons.\n",
    "\n",
    "- (1.a) **(5 pts.)** Define the architecture of the neural network, including the number of input nodes, hidden layer neurons, and output nodes and try to sketch it either by hand or using one of the many online tools, e.g.,  [draw.io](https://app.diagrams.net).\n",
    "- (1.b) **(5 pts.)** Write down the mathematical expressions for computing the output of each neuron in the hidden layer, including the activation function, for a a neural network with one single hidden layer.\n",
    "- (1.c) **(5 pts.)** Given a set of input values, perform forward propagation, e.g., compute the output of the neural network. (Hint: leverage the answer from **1.b**)\n",
    "- (1.d) **(5 pts.)** Propose alternative activation functions that could be used for the hidden layer neurons and discuss their advantages and disadvantages compared to the sigmoid function.\n",
    "- (1.e) **(5 pts.)** Discuss the limitations of using a sigmoid activation function, particularly regarding vanishing gradients and the tendency for neurons to saturate. (Bonus question as gradients have not been discussed yet).\n"
   ]
  },
  {
   "cell_type": "markdown",
   "metadata": {},
   "source": [
    "\n",
    "> You can write your answer in Markdown in the markdown cell below or do this in a separate document.\n",
    "> #### Your solution here"
   ]
  },
  {
   "cell_type": "markdown",
   "metadata": {},
   "source": [
    "## Excercise 2 (Theory) (30/100)\n",
    "\n",
    "### ANNs as general function approximators\n",
    "\n",
    "In a seminal paper, [G. Cybenko](https://web.njit.edu/~usman/courses/cs675_fall18/10.1.1.441.7873.pdf) has shown that a Neural Network (NN) with a single hidden layer can approximate arbitrary well any multivariable continuous function.\n",
    "In this excercise you are asked to show how to construct such a network for the special case of a 1D function using the ReLu activation function in the hidden layer, e.g.\n",
    "$$\n",
    "f(x) = \n",
    "\\begin{cases}\n",
    "    0 & \\text{if } x \\leq 0 \\\\\n",
    "    x & \\text{if } x > 0 \n",
    "\\end{cases}\n",
    "$$\n",
    "The NN should implement linear interpolation."
   ]
  },
  {
   "cell_type": "markdown",
   "metadata": {},
   "source": [
    "### Excercise 2.a **(15 pts.)**\n",
    "\n",
    "As a first step construct the neural neworks $NN_j$, where $𝑗$ is an arbitrary integer, with **three** neurons in the hidden layer that produce the function \n",
    "$$\n",
    "f_j(x) = \n",
    "\\begin{cases}\n",
    "    0 & \\text{if } x < aj \\vee x > a(j+2)  \\\\\n",
    "    w_j(\\frac{x}{a}-j) & \\text{if } aj<x<a(j+1) \\\\\n",
    "    w_j(j+2-\\frac{x}{a}) & \\text{if } a(j+1)<x<a(j+2)\n",
    "\\end{cases}\n",
    "$$\n",
    "\n",
    "The final values for the weights are not enough, a thorough explanation/ derivation is required. \n",
    "\n",
    "<p align=\"center\">\n",
    "  <img src=\"3layer_nn.png\" />\n",
    "</p>\n"
   ]
  },
  {
   "cell_type": "markdown",
   "metadata": {},
   "source": [
    "\n",
    "> You can write your answer in Markdown in the markdown cell below or do this in a separate document.\n",
    "> #### Your solution here\n"
   ]
  },
  {
   "cell_type": "markdown",
   "metadata": {},
   "source": [
    "### Excercise 2.b **(15 pts.)**\n",
    "The NN that implements linear interpolation on a grid of lattice constant $𝑎$ (see image above) stacks horizontally several networks $NN_j$ (e.g., the same type of network as in the figure above in excercise **2.a**) and has as output $NN(𝑥)=\\sum_j NN_j(𝑥)$. Sketch the NN layout providing an appropriate colorscheme to highlight the repetition of the **same** hidden neurons repeated when stacking multiple $NN_j$ together."
   ]
  },
  {
   "cell_type": "markdown",
   "metadata": {},
   "source": [
    "\n",
    "> You can write your answer in Markdown in the markdown cell below or do this in a separate document. You are free to draw the network by hand or use one of many online tools for drawing neural networks, see, e.g., [draw.io](https://app.diagrams.net). \n",
    "> #### Your solution here\n"
   ]
  },
  {
   "cell_type": "markdown",
   "metadata": {},
   "source": [
    "## Excercise 1 (Coding) (45/100)\n",
    "\n",
    "Throughout this course, you'll use [Pytorch](https://pytorch.org) one of the many Deep Learning Libraries on the market. \n",
    "You can check out the official Pytorch website for thorough [tutorials](https://pytorch.org/tutorials/). \n",
    "\n",
    "In the remainder of this notebook you'll have to go through some excercises to get familiar with concepts in pytorch, how to design a neural network and how to deal with tensor operations. "
   ]
  },
  {
   "cell_type": "markdown",
   "metadata": {},
   "source": [
    "**Task (1.a)** **(10 pts.)** Create two tensors, `tensor1` and `tensor2`, of shape `(5, 5)` filled with random values.      \n",
    " Perform element-wise addition, subtraction, multiplication, and division between those tensors.\n",
    "Calculate the mean and standard deviation of `tensor1`.\n"
   ]
  },
  {
   "cell_type": "code",
   "execution_count": 46,
   "metadata": {},
   "outputs": [],
   "source": [
    "## Your code here\n",
    "shape1a = (5,5)\n",
    "tensor1, tensor2 = torch.rand(shape1a), torch.rand(shape1a)\n",
    "picewise_add = tensor1+tensor2\n",
    "picewise_sub = tensor1-tensor2\n",
    "picewise_mul = tensor1*tensor2\n",
    "picewise_div = tensor1 / tensor2\n",
    "tensor1_mean = tensor1.mean()\n",
    "tensor1_std = tensor1.std()"
   ]
  },
  {
   "cell_type": "markdown",
   "metadata": {},
   "source": [
    "**Task (1.b)** **(10 pts.)** Create a tensor `tensor3` of shape `(4, 4)` filled with sequential numbers from 1 to 16.\n",
    "Reshape `tensor3` into a tensor of shape `(2, 8)`.\n",
    "Extract the second row and the last two columns of the reshaped tensor."
   ]
  },
  {
   "cell_type": "code",
   "execution_count": 52,
   "metadata": {},
   "outputs": [],
   "source": [
    "## Your code here\n",
    "tensor3 = torch.tensor(np.arange(1,17).reshape((4,4)))\n",
    "tensor3_reshape = tensor3.reshape((2,8))\n",
    "tensor3_reshaped_second_row = tensor3_reshape[1]\n",
    "tensor3_reshaped_last_col = tensor3_reshape[:,-1]\n",
    "tensor3_reshaped_second_last_col = tensor3_reshape[:,-2]"
   ]
  },
  {
   "cell_type": "markdown",
   "metadata": {},
   "source": [
    "**Task (1.c)** **(10 pts.)** Create two tensors, tensor4 and tensor5, both of shape `(3, 3)`, filled with random values.\n",
    "Concatenate `tensor4` and `tensor5` along the row dimension.        \n",
    "Stack `tensor4` and `tensor5` along a new dimension (3rd dimension)."
   ]
  },
  {
   "cell_type": "code",
   "execution_count": 63,
   "metadata": {},
   "outputs": [],
   "source": [
    "## Your code here\n",
    "shape1c = (3,3)\n",
    "tensor4,tensor5 = torch.rand(shape1c), torch.rand(shape1c)\n",
    "ten4_5_cat = torch.cat([tensor4,tensor5],dim=0)\n",
    "ten4_5_stack = torch.stack([tensor4,tensor5])"
   ]
  },
  {
   "cell_type": "code",
   "execution_count": 62,
   "metadata": {},
   "outputs": [
    {
     "data": {
      "text/plain": [
       "tensor([[0.6654, 0.2896, 0.3212],\n",
       "        [0.6063, 0.6825, 0.9898],\n",
       "        [0.9867, 0.4008, 0.9432],\n",
       "        [0.7841, 0.2452, 0.8903],\n",
       "        [0.7277, 0.7306, 0.4863],\n",
       "        [0.1939, 0.0909, 0.2326]])"
      ]
     },
     "execution_count": 62,
     "metadata": {},
     "output_type": "execute_result"
    }
   ],
   "source": [
    "ten4_5_cat"
   ]
  },
  {
   "cell_type": "markdown",
   "metadata": {},
   "source": [
    "**Task (1.d.1)** **(10 pts.)** Using proper inheritance define a new class `NeuralNetwork` which inherits from `torch.nn.Module`. Implement the neural network class such that it can be customized using different activation functions and hidden layers. Pytorch gives you the possibility to print whether a network has bias or not. Figure out how to do this with Pytorch and print if the network has a bias and, if Yes, print how many bias parameters it has. \n",
    "\n",
    "**Task (1.d.2)** **(5 pts.)** Print the neural network structure. How many parameters does your network have?\n"
   ]
  },
  {
   "cell_type": "code",
   "execution_count": null,
   "metadata": {},
   "outputs": [],
   "source": [
    "## Your code here"
   ]
  }
 ],
 "metadata": {
  "kernelspec": {
   "display_name": "Python 3",
   "language": "python",
   "name": "python3"
  },
  "language_info": {
   "codemirror_mode": {
    "name": "ipython",
    "version": 3
   },
   "file_extension": ".py",
   "mimetype": "text/x-python",
   "name": "python",
   "nbconvert_exporter": "python",
   "pygments_lexer": "ipython3",
   "version": "3.11.5"
  }
 },
 "nbformat": 4,
 "nbformat_minor": 2
}
