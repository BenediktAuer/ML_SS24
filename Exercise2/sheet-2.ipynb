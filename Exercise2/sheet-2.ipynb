{
 "cells": [
  {
   "cell_type": "markdown",
   "metadata": {},
   "source": [
    "# Lecture 2: Stochastic Gradient Descent and Backpropagation"
   ]
  },
  {
   "cell_type": "markdown",
   "metadata": {},
   "source": [
    "In this notebook, you'll find various tasks encompassing both theoretical and coding exercises. Each exercise corresponds to a specific number of points, which are explicitly indicated within the task description.\n",
    "\n",
    "Always use the Jupyter kernel associated with the dedicated environment when compiling the notebook and completing your exercises."
   ]
  },
  {
   "cell_type": "markdown",
   "metadata": {},
   "source": [
    "Benedikt Auer, Paul Ludwig, Jannik Niebling "
   ]
  },
  {
   "cell_type": "markdown",
   "metadata": {},
   "source": [
    "## Excercise 1 (Theory) (15/100)\n",
    "\n",
    "### Understanding SGD\n",
    "\n",
    "- Explain the concept of stochastic gradient descent. **(5 pts.)**\n",
    "- What is the key difference between stochastic gradient descent and regular gradient descent? **(5 pts.)**\n",
    "- Discuss the advantages and disadvantages of using stochastic gradient descent. **(5 pts.)**"
   ]
  },
  {
   "cell_type": "markdown",
   "metadata": {},
   "source": [
    "### Your solution here\n",
    "\n",
    "> You can write your answer in Markdown in the markdown cell below or do this in a separate document.\n"
   ]
  },
  {
   "cell_type": "markdown",
   "metadata": {},
   "source": [
    "a) Stochastic gradient descent is a version of gradient descent where the full sum/average which would ordinarily be taken in the lossfunction is approximated by the average over a sample of the data. Aside from that it is a \"normal\" gradient descent algorithm which moves all parameters a certain stepsize againt their gradient in the lossfuntion to find the minimum of the loss function.\n",
    "\n",
    "b) Not all of the data is evaluated for each gradient descent step but rather only a sample which typically contains only a small fraction of the data\n",
    "\n",
    "c) disadvantage: the approximation of the whole by the sample is not perfect an introduces some noise. This however can also be an advantage if one is for example stuck in a shallow local minimum.\n",
    "\n",
    "   advantage: since the sample is much smaller than the full data, SGD is much faster to compute"
   ]
  },
  {
   "cell_type": "markdown",
   "metadata": {},
   "source": [
    "## Excercise 2 (Theory) (15/100)\n",
    "### SGD Algorithm\n",
    "\n",
    "Consider the following pseudo-code for stochastic gradient descent:\n",
    "```plaintext\n",
    "Initialize parameters θ\n",
    "Set learning rate α\n",
    "For each iteration t = 1, 2, ..., T:\n",
    "    Randomly shuffle the training data\n",
    "    For each training example (x_i, y_i):\n",
    "        Compute the gradient: ∇_θ L(θ; x_i, y_i)\n",
    "        Update parameters: θ = θ - α * ∇_θ L(θ; x_i, y_i)\n",
    "```\n",
    "\n",
    "- Explain the steps involved in the stochastic gradient descent algorithm. **(5 pts.)**\n",
    "- Discuss the importance of randomly shuffling the training data at each iteration. **(5 pts.)**\n",
    "- How does the choice of learning rate affect the convergence of stochastic gradient descent? **(5 pts.)**\n"
   ]
  },
  {
   "cell_type": "markdown",
   "metadata": {},
   "source": [
    "### Your solution here\n",
    "\n",
    "> You can write your answer in Markdown in the markdown cell below or do this in a separate document.\n"
   ]
  },
  {
   "cell_type": "markdown",
   "metadata": {},
   "source": [
    "a) For each iteration of SGD we pick a random sample from the data. Then we compute the gradient of this sample and update the parameters according to the gradient descent perscription with a stepsize alpha. This is repeated T times. (we also have to initialize some stuff in the biginning but that is not really a part of the actual gradient descent)\n",
    "\n",
    "b) Randomly drawing the sample each time makes sure that SGD is a constistent estimator (here the constistent is to be undestood such that the population is not the size of the samples but the number of samples drawn in total). If the samples is the same every time the estimator is still unbiased, but not constistent due to the fact that the sample could (and most likely would be) not representative is some way.\n",
    "\n",
    "c) A higher learning rate generally leads to a faster convergence initially can prohibit actually reaching the true minimum. Similarly a low leaning rate leads to a slow convergence that is more prone to fining small local minima, but is able to more acuratly dip into those minima. Additionally for SDG the variance of the gradient estimator and thus the noise is proportional to the learning rate."
   ]
  },
  {
   "cell_type": "markdown",
   "metadata": {},
   "source": [
    "## Excercise 3 (Theory) (25/100)\n",
    "### Backpropagation\n",
    "\n",
    "Consider a simple neural network with a single input neuron, a single hidden neuron, and a single output neuron. The network uses sigmoid activation functions in both the hidden and output layers. \n",
    "\n",
    "The following parameters are given\n",
    "\n",
    "- Input value: $x = 0.5$\n",
    "- Output value: $y = 0.7$\n",
    "- Initial weights: \n",
    "  - $w_{\\text{hidden}} = 0.8$\n",
    "  - $w_{\\text{output}} = -0.4$\n",
    "- Initial biases: \n",
    "  - $b_{\\text{hidden}} = 0.2 $\n",
    "  - $b_{\\text{output}} = -0.6 $\n",
    "\n",
    "Perform one iteration of the backpropagation algorithm to update the weights and biases using the following steps:\n",
    "\n",
    "1. Forward pass: Compute the output of the neural network. **(5 pts.)**\n",
    "2. Compute the loss: Use the **mean squared error** loss function. **(5 pts.)**\n",
    "3. Backward pass: Compute the gradients of the loss with respect to the weights and biases. **(5 pts.)**\n",
    "4. Update the weights and biases using a learning rate of **$\\eta=0.1$**. **(5 pts.)**\n",
    "5. What are the numerical values of the updated weights? **(5 pts.)**"
   ]
  },
  {
   "cell_type": "markdown",
   "metadata": {},
   "source": [
    "### Your solution here\n",
    "\n",
    "> You can write your answer in Markdown in the markdown cell below or do this in a separate document.\n"
   ]
  },
  {
   "cell_type": "code",
   "execution_count": 4,
   "metadata": {},
   "outputs": [],
   "source": [
    "import numpy as np \n",
    "def sig(x):\n",
    "    return 1/(1 + np.exp(-x))\n",
    "\n",
    "def d_sig(x):\n",
    "    return sig(x)*(1-sig(x))"
   ]
  },
  {
   "cell_type": "markdown",
   "metadata": {},
   "source": [
    "1. Output:"
   ]
  },
  {
   "cell_type": "code",
   "execution_count": 2,
   "metadata": {},
   "outputs": [
    {
     "data": {
      "text/plain": [
       "0.2977024822774294"
      ]
     },
     "execution_count": 2,
     "metadata": {},
     "output_type": "execute_result"
    }
   ],
   "source": [
    "sig(sig(0.5*0.8+0.2)*(-0.4)-0.6)"
   ]
  },
  {
   "cell_type": "markdown",
   "metadata": {},
   "source": [
    "2. Loss:"
   ]
  },
  {
   "cell_type": "code",
   "execution_count": 3,
   "metadata": {},
   "outputs": [
    {
     "data": {
      "text/plain": [
       "0.16184329276574197"
      ]
     },
     "execution_count": 3,
     "metadata": {},
     "output_type": "execute_result"
    }
   ],
   "source": [
    "(sig(sig(0.5*0.8+0.2)*(-0.4)-0.6)-0.7)**2"
   ]
  },
  {
   "cell_type": "markdown",
   "metadata": {},
   "source": [
    "3. gradient"
   ]
  },
  {
   "cell_type": "code",
   "execution_count": 8,
   "metadata": {},
   "outputs": [
    {
     "name": "stdout",
     "output_type": "stream",
     "text": [
      "0.019133291399754445\n",
      "0.03826658279950889\n",
      "0.13499105343149262\n",
      "0.20907571432328623\n"
     ]
    }
   ],
   "source": [
    "d_w_hidden = d_sig(sig(0.5*0.8+0.2)*(-0.4)-0.6)*0.8*d_sig(0.5*0.8+0.2)*0.5\n",
    "\n",
    "d_b_hidden = d_sig(sig(0.5*0.8+0.2)*(-0.4)-0.6)*0.8*d_sig(0.5*0.8+0.2)\n",
    "\n",
    "d_w_output = d_sig(sig(0.5*0.8+0.2)*(-0.4)-0.6)*sig(0.5*0.8+0.2)\n",
    "\n",
    "d_b_output = d_sig(sig(0.5*0.8+0.2)*(-0.4)-0.6)\n",
    "\n",
    "print(d_w_hidden)\n",
    "print(d_b_hidden)\n",
    "print(d_w_output)\n",
    "print(d_b_output)"
   ]
  },
  {
   "cell_type": "markdown",
   "metadata": {},
   "source": [
    "4. update:"
   ]
  },
  {
   "cell_type": "code",
   "execution_count": 9,
   "metadata": {},
   "outputs": [],
   "source": [
    "w_hidden = 0.8-0.1*d_w_hidden\n",
    "\n",
    "b_hidden = 0.2-0.1*d_b_hidden\n",
    "\n",
    "w_output = -0.4-0.1*d_w_output\n",
    "\n",
    "b_output = -0.6-0.1*d_b_output"
   ]
  },
  {
   "cell_type": "markdown",
   "metadata": {},
   "source": [
    "5. values:"
   ]
  },
  {
   "cell_type": "code",
   "execution_count": 11,
   "metadata": {},
   "outputs": [
    {
     "name": "stdout",
     "output_type": "stream",
     "text": [
      "0.7980866708600246\n",
      "0.19617334172004913\n",
      "-0.41349910534314926\n",
      "-0.6209075714323286\n"
     ]
    }
   ],
   "source": [
    "print(w_hidden)\n",
    "print(b_hidden)\n",
    "print(w_output)\n",
    "print(b_output)"
   ]
  },
  {
   "cell_type": "markdown",
   "metadata": {},
   "source": [
    "## Excercise 1 (Programming) (45/100)\n"
   ]
  },
  {
   "cell_type": "markdown",
   "metadata": {},
   "source": [
    "**Task (1.a)** **(10 pts.)**\n",
    "Design a dataset where each input $x$ consists of a collection of tensors, each of shape (2), generated randomly. The corresponding output $y$ is the result of a scalar function $y=\\sin^2(x)+\\cos(x)$. Implement a PyTorch Dataset class that can generate samples of the designed dataset. Ensure that it properly handles data loading, shuffling, and batching\n",
    " "
   ]
  },
  {
   "cell_type": "markdown",
   "metadata": {},
   "source": [
    "> #### NB. You can decide if you want to generate X and Y upfront and pass them in the `CustomDataset` class or if instead you want to define a method of the `class` which handles the data generation inside the class (see below for an example). Note that there are in principle many way of doing this. Feel free to experiment. "
   ]
  },
  {
   "cell_type": "code",
   "execution_count": 1,
   "metadata": {},
   "outputs": [],
   "source": [
    "import torch\n",
    "from torch.utils.data import Dataset\n",
    "import numpy as np\n",
    "\n",
    "class CustomDataset(Dataset):\n",
    "    def __init__(self, X):\n",
    "        self.X = X.reshape(-1,1)\n",
    "        self.Y = (torch.sin(X)**2+torch.cos(X)).reshape(-1,1)\n",
    "        self.shape = len(X)\n",
    "        pass\n",
    "\n",
    "    def __getitem__(self, index):\n",
    "        return self.X[index],self.Y[index]\n",
    "        # ----------------\n",
    "        # Your code here\n",
    "        # ----------------\n",
    "        pass\n",
    "           \n",
    "    def __len__(self):\n",
    "        return self.shape\n",
    "        # ----------------\n",
    "        # Your code here\n",
    "        # ----------------\n",
    "        pass\n",
    "            \n",
    "    def true_fn(self):\n",
    "        return self.Y\n",
    "        # ----------------\n",
    "        # Your code here\n",
    "        # ----------------\n",
    "        pass"
   ]
  },
  {
   "cell_type": "markdown",
   "metadata": {},
   "source": [
    "**Task (1.b)** **(10 pts.)** \n",
    "Design a neural network architecture using PyTorch that can effectively learn the mapping between the input data $x$ and the output data $y$."
   ]
  },
  {
   "cell_type": "code",
   "execution_count": 2,
   "metadata": {},
   "outputs": [
    {
     "name": "stdout",
     "output_type": "stream",
     "text": [
      "NeuralNetwork(\n",
      "  (layers): ModuleList(\n",
      "    (0): Linear(in_features=1, out_features=64, bias=False)\n",
      "    (1): ReLU()\n",
      "    (2): Linear(in_features=64, out_features=64, bias=False)\n",
      "    (3): ReLU()\n",
      "    (4): Linear(in_features=64, out_features=64, bias=False)\n",
      "    (5): ReLU()\n",
      "  )\n",
      "  (output_layer): Linear(in_features=64, out_features=1, bias=False)\n",
      ")\n"
     ]
    }
   ],
   "source": [
    "import torch.nn as nn\n",
    "\n",
    "# TODO: specify input and output dimensions \n",
    "# the number of inputs is 1, since the output calue is also scalar it is also 1\n",
    "input_dim=1\n",
    "output_dim = 1\n",
    "\n",
    "class NeuralNetwork(nn.Module):\n",
    "    def __init__(self, input_dim, output_dim,hidden_layers_list,  bias=False, activation=nn.ReLU):\n",
    "        super().__init__()\n",
    "        self.layers = nn.ModuleList()\n",
    "        input_dim = input_dim\n",
    "        for hidden_dim in hidden_layers_list:\n",
    "            self.layers.append(nn.Linear(input_dim, hidden_dim,bias))\n",
    "            self.layers.append(activation())\n",
    "            input_dim = hidden_dim\n",
    "        self.output_layer = nn.Linear(input_dim, output_dim,bias)\n",
    "        pass\n",
    "\n",
    "    def forward(self, x):\n",
    "        out = x\n",
    "        for layer in self.layers:\n",
    "            out = layer(out)\n",
    "        return self.output_layer(out)\n",
    "    \n",
    "model = NeuralNetwork(input_dim, output_dim, [64,64,64])\n",
    "print(model)"
   ]
  },
  {
   "cell_type": "markdown",
   "metadata": {},
   "source": [
    "**Task (1.c)** **(15 pts.)** \n",
    "Train the designed neural network using the dataset generated in part **1.a**. Utilize appropriate loss function and optimization algorithm. Train the network for a sufficient number of epochs to achieve convergence. Try out different activation functions, layer sizes, and network depth. Comment on the most optimal choice obtained. Which optimizer have you used and why?"
   ]
  },
  {
   "cell_type": "code",
   "execution_count": 23,
   "metadata": {},
   "outputs": [
    {
     "name": "stdout",
     "output_type": "stream",
     "text": [
      "Epoch [1/100], Loss: 0.00804928\n",
      "Epoch [2/100], Loss: 0.00000100\n",
      "Epoch [3/100], Loss: 0.00000131\n",
      "Epoch [4/100], Loss: 0.00000176\n",
      "Epoch [5/100], Loss: 0.00000114\n",
      "Epoch [6/100], Loss: 0.00000247\n",
      "Epoch [7/100], Loss: 0.00000150\n",
      "Epoch [8/100], Loss: 0.00000152\n",
      "Epoch [9/100], Loss: 0.00000194\n",
      "Epoch [10/100], Loss: 0.00000129\n",
      "Epoch [11/100], Loss: 0.00000109\n",
      "Epoch [12/100], Loss: 0.00000093\n",
      "Epoch [13/100], Loss: 0.00000063\n",
      "Epoch [14/100], Loss: 0.00000053\n",
      "Epoch [15/100], Loss: 0.00000061\n",
      "Epoch [16/100], Loss: 0.00000155\n",
      "Epoch [17/100], Loss: 0.00000073\n",
      "Epoch [18/100], Loss: 0.00000049\n",
      "Epoch [19/100], Loss: 0.00000123\n",
      "Epoch [20/100], Loss: 0.00000013\n",
      "Epoch [21/100], Loss: 0.00000009\n",
      "Epoch [22/100], Loss: 0.00000050\n",
      "Epoch [23/100], Loss: 0.00000009\n",
      "Epoch [24/100], Loss: 0.00000029\n",
      "Epoch [25/100], Loss: 0.00000026\n",
      "Epoch [26/100], Loss: 0.00000022\n",
      "Epoch [27/100], Loss: 0.00000014\n",
      "Epoch [28/100], Loss: 0.00000017\n",
      "Epoch [29/100], Loss: 0.00000008\n",
      "Epoch [30/100], Loss: 0.00000010\n",
      "Epoch [31/100], Loss: 0.00000009\n",
      "Epoch [32/100], Loss: 0.00000012\n",
      "Epoch [33/100], Loss: 0.00000007\n",
      "Epoch [34/100], Loss: 0.00000023\n",
      "Epoch [35/100], Loss: 0.00000016\n",
      "Epoch [36/100], Loss: 0.00000010\n",
      "Epoch [37/100], Loss: 0.00000008\n",
      "Epoch [38/100], Loss: 0.00000010\n",
      "Epoch [39/100], Loss: 0.00000009\n",
      "Epoch [40/100], Loss: 0.00000004\n",
      "Epoch [41/100], Loss: 0.00000015\n",
      "Epoch [42/100], Loss: 0.00000007\n",
      "Epoch [43/100], Loss: 0.00000016\n",
      "Epoch [44/100], Loss: 0.00000005\n",
      "Epoch [45/100], Loss: 0.00000004\n",
      "Epoch [46/100], Loss: 0.00000006\n",
      "Epoch [47/100], Loss: 0.00000004\n",
      "Epoch [48/100], Loss: 0.00000008\n",
      "Epoch [49/100], Loss: 0.00000010\n",
      "Epoch [50/100], Loss: 0.00000004\n",
      "Epoch [51/100], Loss: 0.00000005\n",
      "Epoch [52/100], Loss: 0.00000013\n",
      "Epoch [53/100], Loss: 0.00000007\n",
      "Epoch [54/100], Loss: 0.00000037\n",
      "Epoch [55/100], Loss: 0.00000002\n",
      "Epoch [56/100], Loss: 0.00000008\n",
      "Epoch [57/100], Loss: 0.00000002\n",
      "Epoch [58/100], Loss: 0.00000004\n",
      "Epoch [59/100], Loss: 0.00000012\n",
      "Epoch [60/100], Loss: 0.00000002\n",
      "Epoch [61/100], Loss: 0.00000005\n",
      "Epoch [62/100], Loss: 0.00000007\n",
      "Epoch [63/100], Loss: 0.00000001\n",
      "Epoch [64/100], Loss: 0.00000002\n",
      "Epoch [65/100], Loss: 0.00000005\n",
      "Epoch [66/100], Loss: 0.00000001\n",
      "Epoch [67/100], Loss: 0.00000007\n",
      "Epoch [68/100], Loss: 0.00000009\n",
      "Epoch [69/100], Loss: 0.00000002\n",
      "Epoch [70/100], Loss: 0.00000001\n",
      "Epoch [71/100], Loss: 0.00000017\n",
      "Epoch [72/100], Loss: 0.00000001\n",
      "Epoch [73/100], Loss: 0.00000001\n",
      "Epoch [74/100], Loss: 0.00000001\n",
      "Epoch [75/100], Loss: 0.00000006\n",
      "Epoch [76/100], Loss: 0.00000004\n",
      "Epoch [77/100], Loss: 0.00000006\n",
      "Epoch [78/100], Loss: 0.00000000\n",
      "Epoch [79/100], Loss: 0.00000003\n",
      "Epoch [80/100], Loss: 0.00000000\n",
      "Epoch [81/100], Loss: 0.00000004\n",
      "Epoch [82/100], Loss: 0.00000005\n",
      "Epoch [83/100], Loss: 0.00000000\n",
      "Epoch [84/100], Loss: 0.00000000\n",
      "Epoch [85/100], Loss: 0.00000000\n",
      "Epoch [86/100], Loss: 0.00000003\n",
      "Epoch [87/100], Loss: 0.00000000\n",
      "Epoch [88/100], Loss: 0.00000001\n",
      "Epoch [89/100], Loss: 0.00000008\n",
      "Epoch [90/100], Loss: 0.00000000\n",
      "Epoch [91/100], Loss: 0.00000000\n",
      "Epoch [92/100], Loss: 0.00000000\n",
      "Epoch [93/100], Loss: 0.00000004\n",
      "Epoch [94/100], Loss: 0.00000001\n",
      "Epoch [95/100], Loss: 0.00000003\n",
      "Epoch [96/100], Loss: 0.00000000\n",
      "Epoch [97/100], Loss: 0.00000002\n",
      "Epoch [98/100], Loss: 0.00000003\n",
      "Epoch [99/100], Loss: 0.00000000\n",
      "Epoch [100/100], Loss: 0.00000000\n"
     ]
    }
   ],
   "source": [
    "import torch.optim as optim\n",
    "from torch.utils.data import DataLoader\n",
    "\n",
    "# Parameters\n",
    "num_epochs = 100\n",
    "batch_size = 32\n",
    "learning_rate = 0.001\n",
    "lossHist = np.zeros(num_epochs)\n",
    "X = torch.rand(100000)\n",
    "\n",
    "# Initialize dataset and dataloader\n",
    "dataset = CustomDataset(X)\n",
    "dataloader = DataLoader(dataset, batch_size=batch_size, shuffle=True)\n",
    "\n",
    "# Initialize model, loss function, and optimizer\n",
    "model = NeuralNetwork(1, 1, [32,16,8,4],bias=False,activation=nn.Sigmoid)\n",
    "\n",
    "# TODO: choose loss and optimizer based on what you have learned in the lecture\n",
    "criterion = nn.MSELoss() \n",
    "optimizer = optim.Adam(model.parameters(), lr=learning_rate)\n",
    "\n",
    "# Training loop\n",
    "model.train()\n",
    "for epoch in range(num_epochs):\n",
    "  for inputs, targets in dataloader:\n",
    "      #forward \n",
    "        outputs = model(inputs)\n",
    "        loss = criterion(outputs,targets)\n",
    "\n",
    "        #backwards\n",
    "        loss.backward()\n",
    "        optimizer.step()\n",
    "        optimizer.zero_grad()\n",
    "        \n",
    "  lossHist[epoch] = loss.item()\n",
    "  print(f'Epoch [{epoch+1}/{num_epochs}], Loss: {loss.item():.8f}')\n"
   ]
  },
  {
   "cell_type": "markdown",
   "metadata": {},
   "source": [
    "The most optimal choice was the use of 8 hidden  layers ( 4 combitation of linear and activation function ) with a pyramid decreasing number of layers. For a ReLU activation function the loss rate varied around 0.2 to 0.3 with out decreassing at higher epos, indicating \"dying ReLU\", with a Lossy ReLU things improved. The sigmoind function provided the best learing. As optimizer the Adam optimizer, a stochastically optimizer based  on  low order momentum estimation  was used. It is a good general purpose optimizer. "
   ]
  },
  {
   "cell_type": "markdown",
   "metadata": {},
   "source": [
    "**Task (1.a)** **(10 pts.)** \n",
    "Plot the neural network training loss and show final results on a new set of test points:\n",
    "Visualize the training loss over epochs to observe the training progress. Additionally, generate a new set of test points, pass them through the trained neural network, and display the results. Evaluate the performance of the neural network on this test set to assess its generalization ability"
   ]
  },
  {
   "cell_type": "code",
   "execution_count": 25,
   "metadata": {},
   "outputs": [
    {
     "data": {
      "image/png": "[encoded data removed]",
      "text/plain": [
       "<Figure size 640x480 with 1 Axes>"
      ]
     },
     "metadata": {},
     "output_type": "display_data"
    },
    {
     "data": {
      "image/png": "[encoded data removed]",
      "text/plain": [
       "<Figure size 640x480 with 1 Axes>"
      ]
     },
     "metadata": {},
     "output_type": "display_data"
    },
    {
     "name": "stdout",
     "output_type": "stream",
     "text": [
      "Mean loss: 2.2665482646289092e-09\n"
     ]
    }
   ],
   "source": [
    "import matplotlib.pyplot as plt\n",
    "\n",
    "# Part 1: Plot training loss\n",
    "\n",
    "plt.scatter(range(num_epochs)[1:], lossHist[1:]) #dont show the first one , for scaling reasons\n",
    "plt.xlabel(\"epoch\")\n",
    "plt.ylabel(\"loss\")\n",
    "plt.show()\n",
    "# Part 2: Test the trained model on a new set of points\n",
    "size=1000\n",
    "X_test = np.zeros(size)\n",
    "y_test = np.zeros(size)\n",
    "y_pred = np.zeros(size)\n",
    "test_loss = np.zeros(size)\n",
    "testSet=  CustomDataset(torch.rand(size))\n",
    "testLoader = DataLoader(testSet,shuffle=False)\n",
    "model.eval()\n",
    "with torch.no_grad():\n",
    "    for i, (inputs,targets) in enumerate(testLoader):\n",
    "        X_test[i] = inputs[0]\n",
    "        y_test[i] = targets[0]\n",
    "        y_pred[i] = model(inputs)[0]\n",
    "        test_loss[i] = criterion(model(inputs),targets).item()\n",
    "# Test the model\n",
    "\n",
    "# ----------------\n",
    "# Your code here\n",
    "# ----------------\n",
    "\n",
    "# Plot results\n",
    "plt.scatter(X_test, y_test, label='True', color='blue', alpha=0.5)\n",
    "plt.scatter(X_test, y_pred, label='Pred', color='red', alpha=0.5)\n",
    "\n",
    "plt.xlabel('X')\n",
    "plt.ylabel('sin(X)^2+cos(X)')\n",
    "plt.title('True vs Predicted Values')\n",
    "plt.legend()\n",
    "plt.show()\n",
    "print(f\"Mean loss: {np.mean(test_loss)}\")"
   ]
  },
  {
   "cell_type": "code",
   "execution_count": null,
   "metadata": {},
   "outputs": [],
   "source": []
  }
 ],
 "metadata": {
  "kernelspec": {
   "display_name": "Python 3",
   "language": "python",
   "name": "python3"
  },
  "language_info": {
   "codemirror_mode": {
    "name": "ipython",
    "version": 3
   },
   "file_extension": ".py",
   "mimetype": "text/x-python",
   "name": "python",
   "nbconvert_exporter": "python",
   "pygments_lexer": "ipython3",
   "version": "3.11.5"
  }
 },
 "nbformat": 4,
 "nbformat_minor": 2
}
