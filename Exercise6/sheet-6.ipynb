{
 "cells": [
  {
   "cell_type": "markdown",
   "metadata": {},
   "source": [
    "# Lecture 6: Convolutional Neural Networks"
   ]
  },
  {
   "cell_type": "markdown",
   "metadata": {},
   "source": [
    "## Excercise 1 (Theory) (25/100)\n",
    "\n",
    "### Output of a convolution\n",
    "A convolution is defined as an operation which *convolves* an input feature with a weight matrix. This is the core component of Convolutional Neural Networks (CNNs) as you have seen in the lecture. An example pipeline of a CNN can be summarized in the sketch below taken from [Bishop C. and Bishop H. (2023)](https://www.bishopbook.com)\n",
    "\n",
    "<p align=\"center\">\n",
    "  <img src=\"Figure_23.png\" />\n",
    "</p>\n",
    "\n",
    "where the general convolution operation between a $3\\times 3$ matrix and a convolutional filter of size $2\\times 2$ is shown below\n",
    "\n",
    "<p align=\"center\">\n",
    "  <img src=\"Figure_3.png\" />\n",
    "</p>\n",
    "\n",
    "Now consider the following example of the convolution of a $4 \\times 4$ input matrix with a $2 \\times 2$ filter as shown in the image below.\n",
    "\n",
    "<p align=\"center\">\n",
    "  <img src=\"cnn_excercise1.png\" />\n",
    "</p>\n",
    "\n",
    "In the following excercise you have to:\n",
    "\n",
    "- **Task (1.a)** **(10 pts.)** Explicitly calculate the output of the convolution of a $4 \\times 4$ input matrix with a $2 \\times 2$ filter, as shown in the image above. Use a stride of 1. What is the shape of the resulting matrix?\n",
    "- **Task (1.b)** **(5 pts.)** Use different pooling methods to further reduce the output matrix from excercise **1.a** from a $3 \\times 3$ to a $2 \\times 2$ matrix. The pooling methods you should use are: Average Pooling, Sum Pooling and Max Pooling.\n",
    "- **Task (1.b)** **(10 pts.)** From the results you got in task **1.b**, and what you learned in the lecture, what can you say about the effects of the different types of pooling operations?"
   ]
  },
  {
   "cell_type": "markdown",
   "metadata": {},
   "source": [
    "## Excercise 2 (Theory) (15/100)\n",
    "\n",
    "### Understanding Receptive Fields in CNNs\n",
    "\n",
    "In a convolutional neural network (CNN), the [receptive field](https://medium.com/@saba99/receptive-field-1726fe6ea94f#:~:text=In%20Convolutional%20Neural%20Networks%20(CNNs,its%20predictions%20or%20feature%20extractions.)) refers to the area of the input image that a particular neuron in a convolutional layer \"sees\" through its filter. \n",
    "\n",
    "Consider a CNN with the following architecture:\n",
    "\n",
    "- Input image: $28 \\times 28$ pixels (grayscale, i.e., one channel)\n",
    "- First convolutional layer:\n",
    "    * Filter size: $M \\times M$ (with $M \\ll 28$)\n",
    "    * No padding $(P = 0)$\n",
    "    * Stride: 1 (filter moves one pixel at a time)\n",
    "\n",
    "**Task 2.a (5 pts.):**\n",
    "\n",
    "What is the receptive field size of a neuron in the first convolutional layer for this architecture?\n",
    "\n",
    "**Task 2.b (10 pts.):**\n",
    "\n",
    "Now assume $M=3$. Would the receptive field size change if we added padding of size 1 $(P = 1)$ to the input image before the convolutional layer? Motivate your answer with a detailed explanation.\n",
    "\n"
   ]
  },
  {
   "cell_type": "markdown",
   "metadata": {},
   "source": [
    "## Excercise 1 (Programming) (20/100)\n",
    "\n",
    "### Convolution and Pooling operation in CNNs\n",
    "\n",
    "Explain the concepts of convolution and pooling operations in CNNs using PyTorch code.\n",
    "- **Task (1.a)** **(10 pts.)** Define a simple random tensor `x` representing a grayscale image of size $28 \\times 28$. Then define a simple convolutional layer and analyze the output tensor. What is the shape you expect from this convolution operation and why?         \n",
    "*Hint*: look into the [`torch.nn.Conv2d`](https://pytorch.org/docs/stable/generated/torch.nn.Conv2d.html) function in PyTorch      \n",
    "- **Task (1.b)** **(10 pts.)** Now define a simple pooling operation of your choice and apply this to the output of the convolution operation. What is the shape you expect from this convolution operation and why? What type of pooling layer have you used and why?         \n",
    "*Hint*: look into the [`pooling layers`](https://pytorch.org/docs/stable/nn.html#pooling-layers) available in PyTorch.      \n"
   ]
  },
  {
   "cell_type": "markdown",
   "metadata": {},
   "source": [
    "The `nn.Conv2d` function expects a shape of (Batchsize, Channels, h, w ), since we are workig with a single greyscale image the batchsize and channels are one."
   ]
  },
  {
   "cell_type": "code",
   "execution_count": 4,
   "metadata": {},
   "outputs": [
    {
     "name": "stdout",
     "output_type": "stream",
     "text": [
      "Convolution Output Shape: torch.Size([1, 1, 26, 26])\n",
      "Pooled Output Shape: torch.Size([1, 1, 6, 6])\n"
     ]
    }
   ],
   "source": [
    "import torch\n",
    "import torch.nn as nn\n",
    "\n",
    "# Define an input tensor in grayscale of shape 28x28\n",
    "x = torch.rand((1,1,28,28))\n",
    "# Define a 2D convolutional layer\n",
    "\n",
    "conv_layer =  nn.Conv2d(1,1,3)\n",
    "\n",
    "conv_output = conv_layer(x)\n",
    "\n",
    "print(\"Convolution Output Shape:\", conv_output.shape)\n",
    "\n",
    "# Define a max pooling layer\n",
    "\n",
    "pool_layer = nn.LPPool2d(42,4)\n",
    "\n",
    "# Apply your pooling layer\n",
    "\n",
    "pooled_output = pool_layer(conv_output)\n",
    "\n",
    "print(\"Pooled Output Shape:\", pooled_output.shape)"
   ]
  },
  {
   "cell_type": "markdown",
   "metadata": {},
   "source": [
    "To calculate the output size of a Conv layer the following formula holds  [[Source](https://towardsdatascience.com/a-comprehensible-explanation-of-the-dimensions-in-cnns-841dba49df5e)]\n",
    "$$\\text{Output size} = \\Biggl\\lfloor\\frac{(\\text{Input size} - \\text{Kernel size} + 2 \\times \\text{Padding})}{\\text{Stride}}\\Biggr\\rfloor + 1 \\, .$$\n",
    "For an kernel size of 3, a padding of 0 and a stride of 1, we expect a outshape of `(26,26)`.\n",
    "\n",
    "As pooling layer we choosed the `LPPool2d` function wich applies a 2D  42 power-average pooling over the given input. It woas used because it is a little bit exotic. The forumla to calculate the output shape reads [[Source](https://pytorch.org/docs/stable/generated/torch.nn.LPPool2d.html#torch.nn.LPPool2d)]\n",
    "$$\\text{Output size} = \\Biggl\\lfloor\\frac{\\text{Input size} - \\text{Kernel size} }{\\text{Stride}}+1\\Biggr\\rfloor  \\, .$$\n",
    "For an input size of 26 and Kernel size of 4 we expect a shape of `(6,6)`. Note that as long as no stride is given as argument, the kernel size is used as stride."
   ]
  },
  {
   "cell_type": "markdown",
   "metadata": {},
   "source": [
    "## Excercise 2 (Programming) (40/100)\n",
    "\n",
    "### Implementing a Simple CNN for Image Classification\n",
    "\n",
    "Train a classifier to perform a classification task on the [`CIFAR10` dataset](https://en.wikipedia.org/wiki/CIFAR-10). You can refer to this [tutorial](https://pytorch.org/tutorials/beginner/blitz/cifar10_tutorial.html) for some inspiration. \n",
    "To achieve this, design a simple CNN architecture for image classification using [PyTorch](https://pytorch.org) and fine tune the hyperparameters to achieve the lowest possible loss. As an additional resource, you can take inspiration from the multiple tutorials and blogpost you find online giving you an introduction on how to implement CNNs from scratch with pytorch, e.g., [this one](https://blog.paperspace.com/writing-cnns-from-scratch-in-pytorch/).\n",
    "\n",
    "- **Task (2.a)** **(15 pts.)** Implement your variation of Simple CNN following the structure below and filling the code gaps with your own implementation. Train the model using your implementation. For your convenience, the dataset is already split into Train and Test Data. \n",
    "- **Task (2.b)** **(15 pts.)** Describe your `SimpleCNN` implementation step by step and discuss your implementation based on the performance of your model. As a guidance, you may for example think of answering the following questions: What can you observe? Is your network training as expected? What can you say about the training and test losses? Which type of pooling operations you chose and why?     \n",
    "- **Task (2.c)** **(10 pts.)** Try to further tune the parameters of your network and the learning hyperparameters to achieve the highest possible accuracy. Comment on how each hyperparameter seems to improve/worsen the training and why you think this happens. Does youe generalization error (see previous lectures) changes when the performance on the training set improves? Provide plots, experiments, and analysis (e.g., losses, accuracies, performance on train and test data etc.) of the results obtained from your experiments in order to support your claims."
   ]
  },
  {
   "cell_type": "markdown",
   "metadata": {},
   "source": [
    "To see some development when coosing diffrent Hyperparameters and layouts we abstracted the code into a function, which takes the NN, as well as hyperparameters as arguments"
   ]
  },
  {
   "cell_type": "code",
   "execution_count": 21,
   "metadata": {},
   "outputs": [],
   "source": [
    "import torch\n",
    "import torch.nn as nn\n",
    "import torch.nn.functional as F\n",
    "import torch.optim as optim\n",
    "from torchvision import datasets, transforms\n",
    "from torch.utils.data import DataLoader\n",
    "import numpy as np"
   ]
  },
  {
   "cell_type": "code",
   "execution_count": 13,
   "metadata": {},
   "outputs": [
    {
     "name": "stdout",
     "output_type": "stream",
     "text": [
      "Using device: cuda:0\n"
     ]
    }
   ],
   "source": [
    "device = torch.device('cuda:0' if torch.cuda.is_available() else 'cpu')\n",
    "print(\"Using device:\", device)"
   ]
  },
  {
   "cell_type": "code",
   "execution_count": 8,
   "metadata": {},
   "outputs": [],
   "source": [
    "transform = transforms.Compose([\n",
    "    transforms.ToTensor(),\n",
    "    transforms.Normalize((0.5, 0.5, 0.5), (0.5, 0.5, 0.5))\n",
    "])"
   ]
  },
  {
   "cell_type": "code",
   "execution_count": 9,
   "metadata": {},
   "outputs": [
    {
     "name": "stdout",
     "output_type": "stream",
     "text": [
      "Downloading https://www.cs.toronto.edu/~kriz/cifar-10-python.tar.gz to ./data/cifar-10-python.tar.gz\n"
     ]
    },
    {
     "name": "stderr",
     "output_type": "stream",
     "text": [
      "100.0%\n"
     ]
    },
    {
     "name": "stdout",
     "output_type": "stream",
     "text": [
      "Extracting ./data/cifar-10-python.tar.gz to ./data\n",
      "Files already downloaded and verified\n"
     ]
    }
   ],
   "source": [
    "train_dataset = datasets.CIFAR10(root='./data', train=True, download=True, transform=transform)\n",
    "test_dataset = datasets.CIFAR10(root='./data', train=False, download=True, transform=transform)"
   ]
  },
  {
   "cell_type": "code",
   "execution_count": 11,
   "metadata": {},
   "outputs": [],
   "source": [
    "def get_Loader(batchsize):\n",
    "    train_loader = DataLoader(train_dataset, batch_size=batchsize, shuffle=True)\n",
    "    test_loader = DataLoader(test_dataset, batch_size=batchsize, shuffle=False)\n",
    "    return train_loader, test_loader \n",
    "\n",
    "train_loader, test_loader = get_Loader(64)"
   ]
  },
  {
   "cell_type": "code",
   "execution_count": 25,
   "metadata": {},
   "outputs": [],
   "source": [
    "def train_Model(model, epochs,train_loader, criterion=nn.CrossEntropyLoss(),optim=optim.Adam, optim_kwargs={'lr': 0.001}):\n",
    "        optimizer = optim(model.parameters(), **optim_kwargs)\n",
    "        model = model.to(device)\n",
    "        test_losses = np.zeros(epochs)\n",
    "        for epoch in range(epochs):\n",
    "                model.train()\n",
    "                for inputs, labels in train_loader:\n",
    "                        inputs,labels = inputs.to(device), labels.to(device)\n",
    "                # initialize the grad to zero\n",
    "                        optimizer.zero_grad()\n",
    "                        outputs = model(inputs)\n",
    "                        loss = criterion(outputs,labels)\n",
    "                        loss.backward()\n",
    "                        optimizer.step()\n",
    "                test_losses[epoch] = loss.item()\n",
    "                print(f'Epoch {epoch+1}, Loss: {loss.item()}')\n",
    "        return model, test_losses\n",
    "\n",
    "def test_Model(model, test_loader):\n",
    "        model.eval()\n",
    "        correct = 0\n",
    "        total = 0\n",
    "        with torch.no_grad():\n",
    "            for inputs, labels in test_loader:\n",
    "                inputs,labels = inputs.to(device), labels.to(device)\n",
    "                outputs = model(inputs)\n",
    "                _, predicted = torch.max(outputs, 1)\n",
    "                total += labels.size(0)\n",
    "                correct += (predicted == labels).sum().item()\n",
    "                \n",
    "        print(f'Accuracy on test data: {100 * correct / total}%')\n"
   ]
  },
  {
   "cell_type": "code",
   "execution_count": 23,
   "metadata": {},
   "outputs": [],
   "source": [
    "\n",
    "\n",
    "# Define a simple CNN model\n",
    "class CNNFromLastSheet(nn.Module):\n",
    "    def __init__(self):\n",
    "        super().__init__()\n",
    "        self.Conv1 = nn.Conv2d(3, 6, 5)\n",
    "        self.pool = nn.MaxPool2d(2,2)\n",
    "        self.Conv2 = nn.Conv2d(6, 16, 5)\n",
    "        self.lin1 = nn.Linear(16 * 5 * 5,120)\n",
    "        self.lin2 = nn.Linear(120, 84)\n",
    "        self.lin3 = nn.Linear(84, 10)\n",
    "        self.dropout = nn.Dropout(0.3)\n",
    "    def forward(self, x):\n",
    "        x = self.pool(F.relu(self.Conv1(x))) \n",
    "        x = self.pool(F.relu(self.Conv2(x)))  \n",
    "        x = x.view(-1, 16 * 5 * 5)            # falttens the array \n",
    "        x = F.relu(self.lin1(x))  \n",
    "        x=  self.dropout(x)            \n",
    "        x = F.relu(self.lin2(x))  \n",
    "        x=  self.dropout(x)            \n",
    "        x = self.lin3(x)             \n",
    "                         \n",
    "        return x\n"
   ]
  },
  {
   "cell_type": "code",
   "execution_count": 30,
   "metadata": {},
   "outputs": [
    {
     "name": "stdout",
     "output_type": "stream",
     "text": [
      "Epoch 1, Loss: 1.4966144561767578\n",
      "Epoch 2, Loss: 1.4415783882141113\n",
      "Epoch 3, Loss: 1.5636042356491089\n",
      "Epoch 4, Loss: 1.3103501796722412\n",
      "Epoch 5, Loss: 1.7562552690505981\n",
      "Epoch 6, Loss: 1.3111032247543335\n",
      "Epoch 7, Loss: 1.285030722618103\n",
      "Epoch 8, Loss: 0.9285892248153687\n",
      "Epoch 9, Loss: 0.7297058701515198\n",
      "Epoch 10, Loss: 1.1538857221603394\n",
      "Epoch 11, Loss: 0.9062859416007996\n",
      "Epoch 12, Loss: 1.3394174575805664\n",
      "Epoch 13, Loss: 1.6256235837936401\n",
      "Epoch 14, Loss: 0.9509310722351074\n",
      "Epoch 15, Loss: 1.257232427597046\n",
      "Epoch 16, Loss: 1.137119174003601\n",
      "Epoch 17, Loss: 1.2091913223266602\n",
      "Epoch 18, Loss: 0.8468937873840332\n",
      "Epoch 19, Loss: 0.9646720886230469\n",
      "Epoch 20, Loss: 1.2967891693115234\n",
      "Epoch 21, Loss: 1.0641506910324097\n",
      "Epoch 22, Loss: 1.217573642730713\n",
      "Epoch 23, Loss: 1.0253325700759888\n",
      "Epoch 24, Loss: 1.3083901405334473\n",
      "Epoch 25, Loss: 0.5788895487785339\n",
      "Epoch 26, Loss: 1.0964330434799194\n",
      "Epoch 27, Loss: 0.8482760190963745\n",
      "Epoch 28, Loss: 1.2284905910491943\n",
      "Epoch 29, Loss: 0.6982138156890869\n",
      "Epoch 30, Loss: 0.6850591897964478\n",
      "Epoch 31, Loss: 0.9896551966667175\n",
      "Epoch 32, Loss: 1.217228651046753\n",
      "Epoch 33, Loss: 0.7029901742935181\n",
      "Epoch 34, Loss: 0.4193238615989685\n",
      "Epoch 35, Loss: 1.0761303901672363\n",
      "Epoch 36, Loss: 1.0301114320755005\n",
      "Epoch 37, Loss: 0.7491938471794128\n",
      "Epoch 38, Loss: 0.9513565897941589\n",
      "Epoch 39, Loss: 0.6504725813865662\n",
      "Epoch 40, Loss: 0.8722018003463745\n",
      "Epoch 41, Loss: 0.6978477835655212\n",
      "Epoch 42, Loss: 0.8590573668479919\n",
      "Epoch 43, Loss: 1.6875684261322021\n",
      "Epoch 44, Loss: 1.1096868515014648\n",
      "Epoch 45, Loss: 0.7035501599311829\n",
      "Epoch 46, Loss: 0.8639861345291138\n",
      "Epoch 47, Loss: 0.9332036972045898\n",
      "Epoch 48, Loss: 0.5408440828323364\n",
      "Epoch 49, Loss: 1.297397255897522\n",
      "Epoch 50, Loss: 0.5880327820777893\n"
     ]
    }
   ],
   "source": [
    "model1, loss1 =  train_Model(CNNFromLastSheet(),50,train_loader)"
   ]
  },
  {
   "cell_type": "code",
   "execution_count": null,
   "metadata": {},
   "outputs": [],
   "source": []
  },
  {
   "cell_type": "code",
   "execution_count": 31,
   "metadata": {},
   "outputs": [
    {
     "name": "stdout",
     "output_type": "stream",
     "text": [
      "Accuracy on test data: 65.31%\n"
     ]
    }
   ],
   "source": [
    "test_Model(model1,test_loader)"
   ]
  },
  {
   "cell_type": "code",
   "execution_count": 32,
   "metadata": {},
   "outputs": [],
   "source": [
    "import matplotlib.pyplot as plt"
   ]
  },
  {
   "cell_type": "code",
   "execution_count": 33,
   "metadata": {},
   "outputs": [
    {
     "data": {
      "text/plain": [
       "[<matplotlib.lines.Line2D at 0x7f97115f2330>]"
      ]
     },
     "execution_count": 33,
     "metadata": {},
     "output_type": "execute_result"
    },
    {
     "data": {
      "image/png": "[encoded data removed]",
      "text/plain": [
       "<Figure size 640x480 with 1 Axes>"
      ]
     },
     "metadata": {},
     "output_type": "display_data"
    }
   ],
   "source": [
    "plt.plot(loss1)"
   ]
  },
  {
   "cell_type": "code",
   "execution_count": null,
   "metadata": {},
   "outputs": [],
   "source": []
  }
 ],
 "metadata": {
  "kernelspec": {
   "display_name": "Python 3",
   "language": "python",
   "name": "python3"
  },
  "language_info": {
   "codemirror_mode": {
    "name": "ipython",
    "version": 3
   },
   "file_extension": ".py",
   "mimetype": "text/x-python",
   "name": "python",
   "nbconvert_exporter": "python",
   "pygments_lexer": "ipython3",
   "version": "3.12.3"
  }
 },
 "nbformat": 4,
 "nbformat_minor": 2
}
